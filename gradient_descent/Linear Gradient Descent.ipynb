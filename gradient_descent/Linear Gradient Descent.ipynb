{
 "cells": [
  {
   "cell_type": "code",
   "execution_count": 51,
   "metadata": {
    "collapsed": true
   },
   "outputs": [],
   "source": [
    "import numpy as np\n",
    "import matplotlib.pyplot as plt\n",
    "%matplotlib inline"
   ]
  },
  {
   "cell_type": "code",
   "execution_count": 52,
   "metadata": {
    "collapsed": true
   },
   "outputs": [],
   "source": [
    "# The data to be fit\n",
    "m = 20\n",
    "theta_true = 0.5\n",
    "x = np.linspace(-1,1,m)\n",
    "y = theta_true * x"
   ]
  },
  {
   "cell_type": "code",
   "execution_count": 53,
   "metadata": {
    "collapsed": false
   },
   "outputs": [
    {
     "data": {
      "text/plain": [
       "<matplotlib.collections.PathCollection at 0x7f241fc67d68>"
      ]
     },
     "execution_count": 53,
     "metadata": {},
     "output_type": "execute_result"
    },
    {
     "data": {
      "image/png": "[encoded data removed]",
      "text/plain": [
       "<Figure size 720x504 with 2 Axes>"
      ]
     },
     "metadata": {},
     "output_type": "display_data"
    }
   ],
   "source": [
    "# LHS is the data, RHS is the cost function\n",
    "fig, ax = plt.subplots(nrows=1, ncols=2, figsize=(10, 7))\n",
    "ax[0].scatter(x, y, marker='x', s=40, color='k')"
   ]
  },
  {
   "cell_type": "markdown",
   "metadata": {},
   "source": [
    "## Intuition behind Gradient Descent"
   ]
  },
  {
   "cell_type": "markdown",
   "metadata": {},
   "source": [
    "In the gradient descent method of optimization, a hypothesis function, $h_\\boldsymbol{\\theta}(x)$ is fitted to a data set, $(x^{(i)}, y^{(i)})$ (i = 1, 2,...,m) by minimizing an associated cost function, $J(\\boldsymbol{\\theta})$."
   ]
  },
  {
   "cell_type": "markdown",
   "metadata": {},
   "source": [
    "### Cost function\n",
    "The appropriate cost function might be the sum of the squared difference between the data and the hypothesis."
   ]
  },
  {
   "cell_type": "markdown",
   "metadata": {},
   "source": [
    "$J(\\boldsymbol{\\theta}) = \\frac{1}{2m} \\sum_i^{m} \\left[h_\\theta(x^{(i)}) - y^{(i)}\\right]^2$"
   ]
  },
  {
   "cell_type": "code",
   "execution_count": 54,
   "metadata": {
    "collapsed": true
   },
   "outputs": [],
   "source": [
    "def cost_func(theta1):\n",
    "    \"\"\"The cost function, J(theta1) describing the goodness of fit\"\"\"\n",
    "    \n",
    "    # checks if the array is 2D\n",
    "    theta1 = np.atleast_2d(np.asarray(theta1))\n",
    "    \n",
    "    # calculates the  \n",
    "    return np.average((hypothesis(x, theta1) - y)**2, axis=1)/2"
   ]
  },
  {
   "cell_type": "markdown",
   "metadata": {},
   "source": [
    "### Hypothesis"
   ]
  },
  {
   "cell_type": "markdown",
   "metadata": {},
   "source": [
    "$h_\\boldsymbol{\\theta}(x) = \\theta_0 + \\theta_1 x$"
   ]
  },
  {
   "cell_type": "code",
   "execution_count": 55,
   "metadata": {
    "collapsed": true
   },
   "outputs": [],
   "source": [
    "def hypothesis(x, theta1):\n",
    "    \"\"\"Our 'hypothesis function', a straight line through the origin\"\"\"\n",
    "    return theta1*x"
   ]
  },
  {
   "cell_type": "code",
   "execution_count": 56,
   "metadata": {
    "collapsed": true
   },
   "outputs": [],
   "source": [
    "# First construct a grid of theta1 parameter pairs and their corresponding\n",
    "# cost function values.\n",
    "theta1_grid = np.linspace(-0.2,1,50)\n",
    "J_grid = cost_func(theta1_grid[:,np.newaxis])"
   ]
  },
  {
   "cell_type": "markdown",
   "metadata": {},
   "source": [
    "### Updation of Theta"
   ]
  },
  {
   "cell_type": "markdown",
   "metadata": {},
   "source": [
    "$$\\theta_j \\rightarrow \\theta_j - \\alpha \\frac{\\partial}{\\partial \\theta_j}J(\\boldsymbol{\\theta})$$"
   ]
  },
  {
   "cell_type": "code",
   "execution_count": 57,
   "metadata": {
    "collapsed": false
   },
   "outputs": [],
   "source": [
    "# Take N steps with learning_rate alpha down the steepest gradient,\n",
    "# starting at theta1 = 0.\n",
    "N = 5 # No. of steps\n",
    "alpha = 1 # learning_rate\n",
    "theta1 = [0]\n",
    "J = [cost_func(theta1[0])[0]]\n",
    "for j in range(N-1):\n",
    "    last_theta1 = theta1[-1]\n",
    "    this_theta1 = last_theta1 - alpha / m * np.sum(\n",
    "                                    (hypothesis(x, last_theta1) - y) * x)\n",
    "    theta1.append(this_theta1)\n",
    "    J.append(cost_func(this_theta1))"
   ]
  },
  {
   "cell_type": "code",
   "execution_count": 58,
   "metadata": {
    "collapsed": false
   },
   "outputs": [
    {
     "data": {
      "text/plain": [
       "[0,\n",
       " 0.1842105263157895,\n",
       " 0.30055401662049863,\n",
       " 0.3740341157603149,\n",
       " 0.42044259942756734]"
      ]
     },
     "execution_count": 58,
     "metadata": {},
     "output_type": "execute_result"
    }
   ],
   "source": [
    "theta1"
   ]
  },
  {
   "cell_type": "code",
   "execution_count": 59,
   "metadata": {
    "collapsed": false,
    "scrolled": false
   },
   "outputs": [],
   "source": [
    "# Annotate the cost function plot with coloured points indicating the \n",
    "# parameters chosen and red arrows indicating the steps down the gradient\n",
    "# Also plot the fit function on the LHS data plot in a matching colour.\n",
    "colors = ['b', 'g', 'm', 'c', 'orange']\n",
    "ax[0].plot(x, hypothesis(x, theta1[0]), color=colors[0], lw=2,\n",
    "          label=r'$\\theta_1 = (:.3f)$'.format(theta1[0]))\n",
    "for j in range(1,N):\n",
    "    ax[1].annotate('', xy=(theta1[j], J[j]), xytext=(theta1[j-1], J[j-1]),\n",
    "                   arrowprops={'arrowstyle': '->', 'color': 'r', 'lw': 1},\n",
    "                   va='center', ha='center')\n",
    "    ax[0].plot(x, hypothesis(x, theta1[j]), color=colors[j], lw=2,\n",
    "               label=r'$\\theta_1 = {:.3f}$'.format(theta1[j]))"
   ]
  },
  {
   "cell_type": "code",
   "execution_count": 68,
   "metadata": {
    "collapsed": false
   },
   "outputs": [
    {
     "data": {
      "text/plain": [
       "<Figure size 432x288 with 0 Axes>"
      ]
     },
     "metadata": {},
     "output_type": "display_data"
    }
   ],
   "source": [
    "# Labels, titles and a legend\n",
    "ax[1].scatter(theta1, J, c=colors, s=40, lw=0)\n",
    "ax[1].set_xlim(-0.2,1)\n",
    "ax[1].set_xlabel(r'$\\theta_1$')\n",
    "ax[1].set_ylabel(r'$J(\\theta_1)$')\n",
    "ax[1].set_title('Cost function')\n",
    "ax[0].set_xlabel(r'$x$')\n",
    "ax[0].set_ylabel(r'$y$')\n",
    "ax[0].set_title('Data and fit')\n",
    "ax[0].legend(loc='upper left', fontsize='small')\n",
    "\n",
    "plt.tight_layout()\n",
    "plt.show()"
   ]
  }
 ],
 "metadata": {
  "kernelspec": {
   "display_name": "Python 3",
   "language": "python",
   "name": "python3"
  },
  "language_info": {
   "codemirror_mode": {
    "name": "ipython",
    "version": 3
   },
   "file_extension": ".py",
   "mimetype": "text/x-python",
   "name": "python",
   "nbconvert_exporter": "python",
   "pygments_lexer": "ipython3",
   "version": "3.6.3"
  }
 },
 "nbformat": 4,
 "nbformat_minor": 2
}
